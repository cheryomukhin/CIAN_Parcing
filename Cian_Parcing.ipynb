{
 "cells": [
  {
   "cell_type": "markdown",
   "metadata": {},
   "source": [
    "Для начала загрузим нужные нам пакеты:"
   ]
  },
  {
   "cell_type": "code",
   "execution_count": 41,
   "metadata": {
    "collapsed": true
   },
   "outputs": [],
   "source": [
    "import requests\n",
    "import re\n",
    "from bs4 import BeautifulSoup\n",
    "import pandas as pd\n",
    "import time\n",
    "import math"
   ]
  },
  {
   "cell_type": "markdown",
   "metadata": {},
   "source": [
    "Плюс определим парсер сайта самого:"
   ]
  },
  {
   "cell_type": "code",
   "execution_count": 42,
   "metadata": {
    "collapsed": true
   },
   "outputs": [],
   "source": [
    "def html_stripper(text):\n",
    "    return re.sub('<[^<]+?>', '', str(text))"
   ]
  },
  {
   "cell_type": "markdown",
   "metadata": {},
   "source": [
    "Теперь определим функции, которые дадут нам возможность получить нужные нам данные с сайта циан. Нам нужно будет доставаить цену, расстояние, количество комнат, этаж, количество этажей в доме и так далее.\n",
    "Сначала достаем цену:"
   ]
  },
  {
   "cell_type": "code",
   "execution_count": 43,
   "metadata": {
    "collapsed": true
   },
   "outputs": [],
   "source": [
    "def getPrice(flat_page):\n",
    "    price = flat_page.find('div', attrs={'class':'object_descr_price'})\n",
    "    price = re.split('<div>|руб|\\W', str(price))\n",
    "    price = \"\".join([i for i in price if i.isdigit()][-3:])\n",
    "    return int(price)"
   ]
  },
  {
   "cell_type": "markdown",
   "metadata": {},
   "source": [
    "Теперь расстояние до центра:"
   ]
  },
  {
   "cell_type": "code",
   "execution_count": 113,
   "metadata": {
    "collapsed": true
   },
   "outputs": [],
   "source": [
    "from math import radians, cos, sin, asin, sqrt\n",
    "avg_radius = 6371\n",
    "\n",
    "def getDist(flat_page):\n",
    "    coords = flat_page.find('div', attrs={'class':'map_info_button_extend'}).contents[1]\n",
    "    coords = re.split('&amp|center=|%2C', str(coords))\n",
    "    coords_list = []\n",
    "    for item in coords:\n",
    "        if item[0].isdigit():\n",
    "            coords_list.append(item)\n",
    "    lat = float(coords_list[0])\n",
    "    lon = float(coords_list[1])\n",
    "    lat1, lon1, latC, lonC = map(radians, (lat, lon, 55, 37))\n",
    "    d = sin((latC - lat1) * 0.5) ** 2 + cos(lat1) * cos(latC) * sin((lonC - lon1) * 0.5) ** 2\n",
    "    h = 2 * avg_radius * asin(sqrt(d))\n",
    "    return lat, lon, h  "
   ]
  },
  {
   "cell_type": "markdown",
   "metadata": {},
   "source": [
    "Число комнат в квартире:"
   ]
  },
  {
   "cell_type": "code",
   "execution_count": 45,
   "metadata": {
    "collapsed": true
   },
   "outputs": [],
   "source": [
    "def getRooms(flat_page):\n",
    "    rooms = flat_page.find('div', attrs={'class':'object_descr_title'})\n",
    "    rooms = html_stripper(rooms)\n",
    "    room_number = ''\n",
    "    for i in re.split('-|\\n', rooms):\n",
    "        if 'комн' in i:\n",
    "            break\n",
    "        else:\n",
    "            room_number += i\n",
    "    room_number = \"\".join(room_number.split())\n",
    "    return room_number"
   ]
  },
  {
   "cell_type": "markdown",
   "metadata": {},
   "source": [
    "Сам этаж, на котором находится квартира:"
   ]
  },
  {
   "cell_type": "code",
   "execution_count": 46,
   "metadata": {
    "collapsed": true
   },
   "outputs": [],
   "source": [
    "def getFloor(flat_page):\n",
    "    table = flat_page.find('table', attrs = {'class':'object_descr_props'})\n",
    "    table = html_stripper(table)\n",
    "    floor_info = re.split('Этаж|Тип дома', table)[1]\n",
    "    try:\n",
    "        floor = \"\".join([i for i in floor_info if i.isdigit()][0])\n",
    "    except IndexError:\n",
    "        return None\n",
    "    else:\n",
    "        return floor"
   ]
  },
  {
   "cell_type": "markdown",
   "metadata": {},
   "source": [
    "Количество этажей в доме:"
   ]
  },
  {
   "cell_type": "code",
   "execution_count": 47,
   "metadata": {
    "collapsed": true
   },
   "outputs": [],
   "source": [
    "def getNfloors(flat_page):\n",
    "    table = flat_page.find('table', attrs = {'class':'object_descr_props'})\n",
    "    table = html_stripper(table)\n",
    "    floor_info = re.split('Этаж|Тип дома', table)[1]\n",
    "    try:\n",
    "        nfloors = \"\".join([i for i in floor_info if i.isdigit()][1])\n",
    "    except IndexError:\n",
    "        return None\n",
    "    else:\n",
    "        return nfloors   "
   ]
  },
  {
   "cell_type": "markdown",
   "metadata": {},
   "source": [
    "Является ли дом новостройкой или вторичкой:"
   ]
  },
  {
   "cell_type": "code",
   "execution_count": 48,
   "metadata": {
    "collapsed": true
   },
   "outputs": [],
   "source": [
    "def getNew(flat_page):\n",
    "    table = flat_page.find('table', attrs = {'class':'object_descr_props'})\n",
    "    table = html_stripper(table)\n",
    "    house_type = re.split('Тип дома:|Высота потолков:', table)[1]\n",
    "    house_type = re.split('\\n|,', house_type)\n",
    "    house_type = \"\".join(house_type[2].split())\n",
    "    if house_type == 'новостройка':\n",
    "        new = 1\n",
    "    elif house_type == 'вторичка':\n",
    "        new = 0\n",
    "    else:\n",
    "        new = None\n",
    "    return new"
   ]
  },
  {
   "cell_type": "markdown",
   "metadata": {},
   "source": [
    "Тип дома: "
   ]
  },
  {
   "cell_type": "code",
   "execution_count": 49,
   "metadata": {
    "collapsed": true
   },
   "outputs": [],
   "source": [
    "def getBrick(flat_page):\n",
    "    table = flat_page.find('table', attrs = {'class':'object_descr_props'})\n",
    "    table = html_stripper(table)\n",
    "    house_type = re.split('Тип дома:|Высота потолков:', table)[1]\n",
    "    house_type = re.split('\\n|,', house_type)\n",
    "    try:\n",
    "        house_type = \"\".join(house_type[4].split())\n",
    "    except IndexError:\n",
    "        return None\n",
    "    else:\n",
    "        brick = 1 if house_type in ['кирпичный', 'кирпично-монолитный', 'монолитный', 'панельный дом', 'панельный'] else 0\n",
    "        return brick"
   ]
  },
  {
   "cell_type": "markdown",
   "metadata": {},
   "source": [
    "Наличие балкона в квартире: \n",
    "\n"
   ]
  },
  {
   "cell_type": "code",
   "execution_count": 50,
   "metadata": {
    "collapsed": true
   },
   "outputs": [],
   "source": [
    "def getBal(flat_page):\n",
    "    table = flat_page.find('table', attrs = {'class':'object_descr_props'})\n",
    "    table = html_stripper(table)\n",
    "    balcony_info = re.split('Балкон:|Лифт', table)[1]\n",
    "    balcony = re.split('\\n', balcony_info)[1]\n",
    "    balcony = 1 if ''.join(balcony.split()[0]).isdigit() else 0\n",
    "    return balcony"
   ]
  },
  {
   "cell_type": "markdown",
   "metadata": {},
   "source": [
    "Количество балконов в квартире:"
   ]
  },
  {
   "cell_type": "code",
   "execution_count": 51,
   "metadata": {
    "collapsed": true
   },
   "outputs": [],
   "source": [
    "def getBalNum(flat_page):\n",
    "    table = flat_page.find('table', attrs = {'class':'object_descr_props'})\n",
    "    table = html_stripper(table)\n",
    "    balcony_info = re.split('Балкон:|Лифт', table)[1]\n",
    "    balcony = re.split('\\n', balcony_info)[1]\n",
    "    balcony_number = ''.join(balcony.split()[0]) if ''.join(balcony.split()[0]).isdigit() else 0\n",
    "    return balcony_number"
   ]
  },
  {
   "cell_type": "markdown",
   "metadata": {},
   "source": [
    "Площадь всей квартиры:"
   ]
  },
  {
   "cell_type": "code",
   "execution_count": 52,
   "metadata": {
    "collapsed": true
   },
   "outputs": [],
   "source": [
    "def getTotsp(flat_page):\n",
    "    table = flat_page.find('table', attrs = {'class':'object_descr_props'})\n",
    "    table = html_stripper(table)\n",
    "    totsp = re.split('Общая площадь:|Площадь комнат', table)[1]\n",
    "    totsp = re.split('\\n|\\xa0', totsp)[2].replace(',', '.')\n",
    "    return totsp"
   ]
  },
  {
   "cell_type": "markdown",
   "metadata": {},
   "source": [
    "Жилая площадь:"
   ]
  },
  {
   "cell_type": "code",
   "execution_count": 53,
   "metadata": {
    "collapsed": true
   },
   "outputs": [],
   "source": [
    "def getLivesp(flat_page):\n",
    "    table = flat_page.find('table', attrs = {'class':'object_descr_props'})\n",
    "    table = html_stripper(table)\n",
    "    livesp = re.split('Жилая площадь:|Площадь кухни', table)[1]\n",
    "    livesp = re.split('\\xa0', livesp)[0]\n",
    "    livesp = ''.join(i for i in livesp if i.isdigit() or i==',' or i == '.').replace(',', '.')\n",
    "    return livesp"
   ]
  },
  {
   "cell_type": "markdown",
   "metadata": {},
   "source": [
    "Кухонная площадь:"
   ]
  },
  {
   "cell_type": "code",
   "execution_count": 54,
   "metadata": {
    "collapsed": true
   },
   "outputs": [],
   "source": [
    "def getKitsp(flat_page):\n",
    "    table = flat_page.find('table', attrs = {'class':'object_descr_props'})\n",
    "    table = html_stripper(table)\n",
    "    kitsp = re.split('Площадь кухни:|Санузел|Раздельных санузлов|Совмещенных санузлов', table)[1]\n",
    "    kitsp = re.split('\\xa0', kitsp)[0]\n",
    "    kitsp = ''.join([i for i in kitsp.split() if i.isdigit() or i==',' and i != '\\n']).replace(',', '.')    \n",
    "    return kitsp"
   ]
  },
  {
   "cell_type": "markdown",
   "metadata": {},
   "source": [
    "Возможно ли пешком дойти от квартиры до метро:"
   ]
  },
  {
   "cell_type": "code",
   "execution_count": 55,
   "metadata": {
    "collapsed": true
   },
   "outputs": [],
   "source": [
    "def getWalk(flat_page):\n",
    "    walk_info = flat_page.find('span', attrs = {'class': 'object_item_metro_comment'})\n",
    "    walk_info = html_stripper(walk_info)\n",
    "    if walk_info is None:\n",
    "        return walk_info\n",
    "    else:\n",
    "        try:\n",
    "            walk = re.split('\\n', walk_info)[4]\n",
    "        except IndexError:\n",
    "            return None\n",
    "        else:\n",
    "            walk = ''.join(walk.split())\n",
    "            walk = 1 if walk == 'пешком' else 0\n",
    "            return walk"
   ]
  },
  {
   "cell_type": "markdown",
   "metadata": {},
   "source": [
    "Сколько идти от метро пешком (в минутах)"
   ]
  },
  {
   "cell_type": "code",
   "execution_count": 56,
   "metadata": {
    "collapsed": true
   },
   "outputs": [],
   "source": [
    "def getMetrdist(flat_page):\n",
    "    metrdist = flat_page.find('span', attrs = {'class': 'object_item_metro_comment'})\n",
    "    metrdist = html_stripper(metrdist)\n",
    "    if metrdist == 'None':\n",
    "        return metrdist\n",
    "    else:\n",
    "        metrdist = re.split('\\n', metrdist)[1]\n",
    "        metrdist = ''.join(metrdist.split())\n",
    "        return metrdist"
   ]
  },
  {
   "cell_type": "markdown",
   "metadata": {},
   "source": [
    "Телефон арендатора:"
   ]
  },
  {
   "cell_type": "code",
   "execution_count": 57,
   "metadata": {
    "collapsed": true
   },
   "outputs": [],
   "source": [
    "def getTelA(flat_page):\n",
    "    tel = flat_page.find('div', attrs = {'class': 'realtor-card__phone'})\n",
    "    tel = html_stripper(tel)\n",
    "    if tel == 'None' or tel == '':\n",
    "        tel = 0\n",
    "    else:\n",
    "        tel = re.split('\\n', tel)[1]\n",
    "    return tel"
   ]
  },
  {
   "cell_type": "markdown",
   "metadata": {},
   "source": [
    "Наличие телефона в квартире:"
   ]
  },
  {
   "cell_type": "code",
   "execution_count": 58,
   "metadata": {
    "collapsed": true
   },
   "outputs": [],
   "source": [
    "def getTel(flat_page):\n",
    "    table = flat_page.find('table', attrs = {'class':'object_descr_props'})\n",
    "    table = html_stripper(table)\n",
    "    tel = re.split('Телефон:|Вид из окна', table)[1]\n",
    "    try:\n",
    "        tel = re.split('\\n', tel)[1]\n",
    "    except IndexError:\n",
    "        return None\n",
    "    else:\n",
    "        if tel == 'да':\n",
    "            tel = 1\n",
    "        else:\n",
    "            tel = 0\n",
    "        return tel"
   ]
  },
  {
   "cell_type": "markdown",
   "metadata": {},
   "source": [
    "Теперь, когда у нас есть уже вся информация, можно извлекать программный код страницы. Это функция getPage и  getSubpageLink."
   ]
  },
  {
   "cell_type": "code",
   "execution_count": 59,
   "metadata": {
    "collapsed": true
   },
   "outputs": [],
   "source": [
    "def getPage(link):\n",
    "    page = requests.get(link).content\n",
    "    page = BeautifulSoup(page, 'lxml')\n",
    "    return page"
   ]
  },
  {
   "cell_type": "code",
   "execution_count": 60,
   "metadata": {
    "collapsed": true
   },
   "outputs": [],
   "source": [
    "def getSubpageLink(link):\n",
    "    return 'http://www.cian.ru/sale/flat/' + str(link) + '/'"
   ]
  },
  {
   "cell_type": "markdown",
   "metadata": {},
   "source": [
    "Извлечем названия и ссылки на округа:"
   ]
  },
  {
   "cell_type": "code",
   "execution_count": 61,
   "metadata": {
    "collapsed": true
   },
   "outputs": [],
   "source": [
    "neighbourhoods = ['ЦАО','САО', 'СВАО', 'ВАО','ЮВАО', 'ЮАО','ЮЗАО','ЗАО','СЗАО','ЗелАО','НАО', 'ТАО']\n",
    "districts = ['http://www.cian.ru/cat.php?deal_type=sale&district%5B0%5D=13&district%5B1%5D=14&district%5B2%5D=15&district%5B3%5D=16&district%5B4%5D=17&district%5B5%5D=18&district%5B6%5D=19&district%5B7%5D=20&district%5B8%5D=21&district%5B9%5D=22&engine_version=2&offer_type=flat&p={}&room1=1&room2=1&room3=1&room4=1&room5=1&room6=1',\n",
    "           'http://www.cian.ru/cat.php?deal_type=sale&district%5B0%5D=23&district%5B10%5D=33&district%5B11%5D=34&district%5B12%5D=35&district%5B13%5D=36&district%5B14%5D=37&district%5B15%5D=38&district%5B1%5D=24&district%5B2%5D=25&district%5B3%5D=26&district%5B4%5D=27&district%5B5%5D=28&district%5B6%5D=29&district%5B7%5D=30&district%5B8%5D=31&district%5B9%5D=32&engine_version=2&offer_type=flat&p={}&room1=1&room2=1&room3=1&room4=1&room5=1&room6=1',\n",
    "           'http://www.cian.ru/cat.php?deal_type=sale&district%5B0%5D=39&district%5B10%5D=49&district%5B11%5D=50&district%5B12%5D=51&district%5B13%5D=52&district%5B14%5D=53&district%5B15%5D=54&district%5B16%5D=55&district%5B1%5D=40&district%5B2%5D=41&district%5B3%5D=42&district%5B4%5D=43&district%5B5%5D=44&district%5B6%5D=45&district%5B7%5D=46&district%5B8%5D=47&district%5B9%5D=48&engine_version=2&offer_type=flat&p={}&room1=1&room2=1&room3=1&room4=1&room5=1&room6=1',\n",
    "           'http://www.cian.ru/cat.php?deal_type=sale&district%5B0%5D=56&district%5B10%5D=66&district%5B11%5D=67&district%5B12%5D=68&district%5B13%5D=69&district%5B14%5D=70&district%5B15%5D=71&district%5B1%5D=57&district%5B2%5D=58&district%5B3%5D=59&district%5B4%5D=60&district%5B5%5D=61&district%5B6%5D=62&district%5B7%5D=63&district%5B8%5D=64&district%5B9%5D=65&engine_version=2&offer_type=flat&p={}&room1=1&room2=1&room3=1&room4=1&room5=1&room6=1',\n",
    "           'http://www.cian.ru/cat.php?deal_type=sale&district%5B0%5D=72&district%5B10%5D=82&district%5B11%5D=83&district%5B1%5D=73&district%5B2%5D=74&district%5B3%5D=75&district%5B4%5D=76&district%5B5%5D=77&district%5B6%5D=78&district%5B7%5D=79&district%5B8%5D=80&district%5B9%5D=81&engine_version=2&offer_type=flat&p={}&room1=1&room2=1&room3=1&room4=1&room5=1&room6=1',\n",
    "           'http://www.cian.ru/cat.php?deal_type=sale&district%5B0%5D=84&district%5B10%5D=94&district%5B11%5D=95&district%5B12%5D=96&district%5B13%5D=97&district%5B14%5D=98&district%5B15%5D=99&district%5B1%5D=85&district%5B2%5D=86&district%5B3%5D=87&district%5B4%5D=88&district%5B5%5D=89&district%5B6%5D=90&district%5B7%5D=91&district%5B8%5D=92&district%5B9%5D=93&engine_version=2&offer_type=flat&p={}&room1=1&room2=1&room3=1&room4=1&room5=1&room6=1',\n",
    "           'http://www.cian.ru/cat.php?deal_type=sale&district%5B0%5D=100&district%5B10%5D=110&district%5B11%5D=111&district%5B1%5D=101&district%5B2%5D=102&district%5B3%5D=103&district%5B4%5D=104&district%5B5%5D=105&district%5B6%5D=106&district%5B7%5D=107&district%5B8%5D=108&district%5B9%5D=109&engine_version=2&offer_type=flat&p={}&room1=1&room2=1&room3=1&room4=1&room5=1&room6=1',\n",
    "           'http://www.cian.ru/cat.php?deal_type=sale&district%5B0%5D=112&district%5B10%5D=122&district%5B11%5D=123&district%5B12%5D=124&district%5B13%5D=348&district%5B14%5D=349&district%5B15%5D=350&district%5B1%5D=113&district%5B2%5D=114&district%5B3%5D=115&district%5B4%5D=116&district%5B5%5D=117&district%5B6%5D=118&district%5B7%5D=119&district%5B8%5D=120&district%5B9%5D=121&engine_version=2&offer_type=flat&p={}&room1=1&room2=1&room3=1&room4=1&room5=1&room6=1',\n",
    "           'http://www.cian.ru/cat.php?deal_type=sale&district%5B0%5D=125&district%5B1%5D=126&district%5B2%5D=127&district%5B3%5D=128&district%5B4%5D=129&district%5B5%5D=130&district%5B6%5D=131&district%5B7%5D=132&engine_version=2&offer_type=flat&p={}&room1=1&room2=1&room3=1&room4=1&room5=1&room6=1',\n",
    "           'http://www.cian.ru/cat.php?deal_type=sale&district%5B0%5D=152&district%5B1%5D=153&district%5B2%5D=154&district%5B3%5D=355&district%5B4%5D=356&district%5B5%5D=357&district%5B6%5D=358&engine_version=2&offer_type=flat&p={}&room1=1&room2=1&room3=1&room4=1&room5=1&room6=1',\n",
    "           'http://www.cian.ru/cat.php?deal_type=sale&district%5B0%5D=327&district%5B10%5D=337&district%5B1%5D=328&district%5B2%5D=329&district%5B3%5D=330&district%5B4%5D=331&district%5B5%5D=332&district%5B6%5D=333&district%5B7%5D=334&district%5B8%5D=335&district%5B9%5D=336&engine_version=2&offer_type=flat&p={}&room1=1&room2=1&room3=1&room4=1&room5=1&room6=1',\n",
    "           'http://www.cian.ru/cat.php?deal_type=sale&district%5B0%5D=338&district%5B1%5D=339&district%5B2%5D=340&district%5B3%5D=341&district%5B4%5D=342&district%5B5%5D=343&district%5B6%5D=344&district%5B7%5D=345&district%5B8%5D=346&district%5B9%5D=347&engine_version=2&offer_type=flat&p={}&room1=1&room2=1&room3=1&room4=1&room5=1&room6=1']"
   ]
  },
  {
   "cell_type": "markdown",
   "metadata": {},
   "source": [
    "Теперь по каждому округу мы пройдемся по начальным 30 страницам, чтобы собрать информацию."
   ]
  },
  {
   "cell_type": "code",
   "execution_count": 62,
   "metadata": {
    "collapsed": true
   },
   "outputs": [],
   "source": [
    "def getLinks0(district, pages):\n",
    "    links = []\n",
    "    for page in pages:\n",
    "        page_url =  district.format(page)\n",
    "\n",
    "        search_page = getPage(page_url)\n",
    "\n",
    "        flat_urls = search_page.findAll('div', attrs = {'ng-class':\"{'serp-item_removed': offer.remove.state, 'serp-item_popup-opened': isPopupOpen}\"})\n",
    "        flat_urls = re.split('http://www.cian.ru/sale/flat/|/\" ng-class=\"', str(flat_urls))\n",
    "\n",
    "        for link in flat_urls:\n",
    "            if link.isdigit():\n",
    "                links.append(link)\n",
    "    return links"
   ]
  },
  {
   "cell_type": "markdown",
   "metadata": {},
   "source": [
    "В некоторых округах квартир представлено меньше. \n",
    "Получается, что программа собирает повторы. Чтобы их не было, будем удалять дубликаты из ссылок, при этом сохраним порядок."
   ]
  },
  {
   "cell_type": "code",
   "execution_count": 63,
   "metadata": {
    "collapsed": false
   },
   "outputs": [
    {
     "data": {
      "text/plain": [
       "['150987610',\n",
       " '148433138',\n",
       " '150130411',\n",
       " '148505839',\n",
       " '150987610',\n",
       " '148433138',\n",
       " '150130411',\n",
       " '148505839',\n",
       " '150987610',\n",
       " '148433138',\n",
       " '150130411',\n",
       " '148505839']"
      ]
     },
     "execution_count": 63,
     "metadata": {},
     "output_type": "execute_result"
    }
   ],
   "source": [
    "ZelAOlinks = getLinks0(districts[9], pages = range(1, 4, 1))\n",
    "ZelAOlinks"
   ]
  },
  {
   "cell_type": "markdown",
   "metadata": {},
   "source": [
    "Опять же в некоторых округах повторы остаются, удалим повторы, при этом сохраняя порядок:"
   ]
  },
  {
   "cell_type": "code",
   "execution_count": 64,
   "metadata": {
    "collapsed": false
   },
   "outputs": [
    {
     "data": {
      "text/plain": [
       "['150987610', '148433138', '150130411', '148505839']"
      ]
     },
     "execution_count": 64,
     "metadata": {},
     "output_type": "execute_result"
    }
   ],
   "source": [
    "from collections import OrderedDict\n",
    "\n",
    "uniquelinks = list(OrderedDict.fromkeys(ZelAOlinks))\n",
    "uniquelinks"
   ]
  },
  {
   "cell_type": "markdown",
   "metadata": {},
   "source": [
    "Конечная функция, которая достает нам ссылочки:"
   ]
  },
  {
   "cell_type": "code",
   "execution_count": 65,
   "metadata": {
    "collapsed": true
   },
   "outputs": [],
   "source": [
    "def getLinks(district, total_pages):\n",
    "    links = []\n",
    "    for page in total_pages:\n",
    "        page_url =  district.format(page)\n",
    "\n",
    "        search_page = getPage(page_url)\n",
    "\n",
    "        flat_urls = search_page.findAll('div', attrs = {'ng-class':\"{'serp-item_removed': offer.remove.state, 'serp-item_popup-opened': isPopupOpen}\"})\n",
    "        flat_urls = re.split('http://www.cian.ru/sale/flat/|/\" ng-class=\"', str(flat_urls))\n",
    "\n",
    "        for link in flat_urls:\n",
    "            if link.isdigit():\n",
    "                links.append(link)\n",
    "    links = list(OrderedDict.fromkeys(links))\n",
    "    return links"
   ]
  },
  {
   "cell_type": "code",
   "execution_count": 66,
   "metadata": {
    "collapsed": false
   },
   "outputs": [
    {
     "data": {
      "text/plain": [
       "['150987610', '148433138', '150130411', '148505839']"
      ]
     },
     "execution_count": 66,
     "metadata": {},
     "output_type": "execute_result"
    }
   ],
   "source": [
    "getLinks(districts[9], total_pages = range(1, 4, 1))"
   ]
  },
  {
   "cell_type": "markdown",
   "metadata": {},
   "source": [
    "Теперь определим номер для каждой квартиры в каждом округе, так как собираем данные по каждому округу:"
   ]
  },
  {
   "cell_type": "code",
   "execution_count": 67,
   "metadata": {
    "collapsed": true
   },
   "outputs": [],
   "source": [
    "def getN(iter_item):\n",
    "    return iter_item + 1"
   ]
  },
  {
   "cell_type": "markdown",
   "metadata": {},
   "source": [
    "Определим функцию, которая достает данные:"
   ]
  },
  {
   "cell_type": "code",
   "execution_count": 70,
   "metadata": {
    "collapsed": true
   },
   "outputs": [],
   "source": [
    "def ParseDistrict(district_number, pages_range, csv_file = False, file_name = 0):\n",
    "    CIANDATA = pd.DataFrame(columns=['District', 'N', 'Rooms', 'Price', 'Totsp', 'Livesp', 'Kitsp',  'Lat', 'Lon', 'Dist', \n",
    "                 'Metrdist', 'Walk', 'Brick', 'Tel', 'Bal', 'Floor', 'Nfloors', 'New'])\n",
    "    district = districts[district_number]\n",
    "    count = 0\n",
    "    links = getLinks(district, pages_range)\n",
    "    for link in range(len(links)):\n",
    "        try:\n",
    "            flat_page = getPage(getSubpageLink(links[link]))\n",
    "            to_append = {'District': district_number, 'N': getN(link), 'Rooms': getRooms(flat_page), 'Price': getPrice(flat_page), 'Totsp': getTotsp(flat_page), 'Livesp': getLivesp(flat_page), 'Kitsp': getKitsp(flat_page), 'Lat': getDist(flat_page)[0], 'Lon': getDist(flat_page)[1], 'Dist': getDist(flat_page)[2], 'Metrdist': getMetrdist(flat_page), 'Walk': getWalk(flat_page), 'Brick': getBrick(flat_page), 'Tel': getTel(flat_page), 'Bal': getBal(flat_page), 'Floor': getFloor(flat_page), 'Nfloors': getNfloors(flat_page), 'New': getNew(flat_page)}\n",
    "            CIANDATA = CIANDATA.append(to_append, ignore_index=True)\n",
    "            count +=1 \n",
    "            if link % 28 == 0:\n",
    "                print('Страничка {}'.format(int(link/28+1)))\n",
    "        except:\n",
    "            print('Неполадки с страничкой {}.'.format(link))\n",
    "            return CIANDATA\n",
    "    print('Finished parsing district {}.'.format(district_number))\n",
    "    return CIANDATA\n",
    "\n",
    "    if csv_file == True:\n",
    "        CIANDATA.to_csv('/Users/Kamila/Desktop/cian.csv')"
   ]
  },
  {
   "cell_type": "markdown",
   "metadata": {},
   "source": [
    "Теперь можем распарсить все округи:"
   ]
  },
  {
   "cell_type": "code",
   "execution_count": 71,
   "metadata": {
    "collapsed": false,
    "scrolled": false
   },
   "outputs": [
    {
     "name": "stdout",
     "output_type": "stream",
     "text": [
      "Страничка 1\n",
      "Страничка 2\n",
      "Страничка 3\n",
      "Страничка 4\n",
      "Страничка 5\n",
      "Страничка 6\n",
      "Страничка 7\n",
      "Страничка 8\n",
      "Страничка 9\n",
      "Страничка 10\n",
      "Страничка 11\n",
      "Страничка 12\n",
      "Страничка 13\n",
      "Страничка 14\n",
      "Страничка 15\n",
      "Страничка 16\n",
      "Страничка 17\n",
      "Страничка 18\n",
      "Страничка 19\n",
      "Страничка 20\n",
      "Страничка 21\n",
      "Страничка 22\n",
      "Страничка 23\n",
      "Страничка 24\n",
      "Страничка 25\n",
      "Страничка 26\n",
      "Страничка 27\n",
      "Страничка 28\n",
      "Страничка 29\n",
      "Finished parsing district 0.\n"
     ]
    }
   ],
   "source": [
    "district0 = ParseDistrict(0, range(0, 30, 1))"
   ]
  },
  {
   "cell_type": "code",
   "execution_count": 72,
   "metadata": {
    "collapsed": true
   },
   "outputs": [],
   "source": [
    "district0.to_csv('/Users/Kamila/Desktop/district0.csv')"
   ]
  },
  {
   "cell_type": "code",
   "execution_count": 73,
   "metadata": {
    "collapsed": false
   },
   "outputs": [
    {
     "name": "stdout",
     "output_type": "stream",
     "text": [
      "Страничка 1\n",
      "Страничка 2\n",
      "Страничка 3\n",
      "Страничка 4\n",
      "Страничка 5\n",
      "Страничка 6\n",
      "Страничка 7\n",
      "Страничка 8\n",
      "Страничка 9\n",
      "Страничка 10\n",
      "Страничка 11\n",
      "Страничка 12\n",
      "Страничка 13\n",
      "Страничка 14\n",
      "Страничка 15\n",
      "Страничка 16\n",
      "Страничка 17\n",
      "Страничка 18\n",
      "Страничка 19\n",
      "Страничка 20\n",
      "Страничка 21\n",
      "Страничка 22\n",
      "Страничка 23\n",
      "Страничка 24\n",
      "Страничка 25\n",
      "Страничка 26\n",
      "Страничка 27\n",
      "Страничка 28\n",
      "Страничка 29\n",
      "Finished parsing district 1.\n"
     ]
    }
   ],
   "source": [
    "district1 = ParseDistrict(1, range(0, 30, 1))"
   ]
  },
  {
   "cell_type": "code",
   "execution_count": 74,
   "metadata": {
    "collapsed": true
   },
   "outputs": [],
   "source": [
    "district1.to_csv('/Users/Kamila/Desktop/district1.csv')"
   ]
  },
  {
   "cell_type": "code",
   "execution_count": 78,
   "metadata": {
    "collapsed": false
   },
   "outputs": [
    {
     "name": "stdout",
     "output_type": "stream",
     "text": [
      "Страничка 1\n",
      "Страничка 2\n",
      "Страничка 3\n",
      "Страничка 4\n",
      "Страничка 5\n",
      "Страничка 6\n",
      "Страничка 7\n",
      "Страничка 8\n",
      "Страничка 9\n",
      "Страничка 10\n",
      "Страничка 11\n",
      "Страничка 12\n",
      "Страничка 13\n",
      "Страничка 14\n",
      "Страничка 15\n",
      "Страничка 16\n",
      "Страничка 17\n",
      "Страничка 18\n",
      "Страничка 19\n",
      "Страничка 20\n",
      "Страничка 21\n",
      "Страничка 22\n",
      "Страничка 23\n",
      "Страничка 24\n",
      "Страничка 25\n",
      "Страничка 26\n",
      "Страничка 27\n",
      "Страничка 28\n",
      "Страничка 29\n",
      "Finished parsing district 2.\n"
     ]
    }
   ],
   "source": [
    "district2 = ParseDistrict(2, range(0, 30, 1))"
   ]
  },
  {
   "cell_type": "code",
   "execution_count": 81,
   "metadata": {
    "collapsed": true
   },
   "outputs": [],
   "source": [
    "district2.to_csv('/Users/Kamila/Desktop/district2.csv')"
   ]
  },
  {
   "cell_type": "code",
   "execution_count": 80,
   "metadata": {
    "collapsed": false
   },
   "outputs": [
    {
     "name": "stdout",
     "output_type": "stream",
     "text": [
      "Страничка 1\n",
      "Страничка 2\n",
      "Страничка 3\n",
      "Страничка 4\n",
      "Страничка 5\n",
      "Страничка 6\n",
      "Страничка 7\n",
      "Страничка 8\n",
      "Страничка 9\n",
      "Страничка 10\n",
      "Страничка 11\n",
      "Страничка 12\n",
      "Страничка 13\n",
      "Страничка 14\n",
      "Страничка 15\n",
      "Страничка 16\n",
      "Страничка 17\n",
      "Страничка 18\n",
      "Страничка 19\n",
      "Страничка 20\n",
      "Страничка 21\n",
      "Страничка 22\n",
      "Страничка 23\n",
      "Страничка 24\n",
      "Страничка 25\n",
      "Страничка 26\n",
      "Страничка 27\n",
      "Страничка 28\n",
      "Finished parsing district 3.\n"
     ]
    }
   ],
   "source": [
    "district3 = ParseDistrict(3, range(0, 30, 1))"
   ]
  },
  {
   "cell_type": "code",
   "execution_count": 82,
   "metadata": {
    "collapsed": true
   },
   "outputs": [],
   "source": [
    "district3.to_csv('/Users/Kamila/Desktop/district3.csv')"
   ]
  },
  {
   "cell_type": "code",
   "execution_count": 83,
   "metadata": {
    "collapsed": false
   },
   "outputs": [
    {
     "name": "stdout",
     "output_type": "stream",
     "text": [
      "Страничка 1\n",
      "Страничка 2\n",
      "Страничка 3\n",
      "Страничка 4\n",
      "Страничка 5\n",
      "Страничка 6\n",
      "Страничка 7\n",
      "Страничка 8\n",
      "Страничка 9\n",
      "Страничка 10\n",
      "Страничка 11\n",
      "Страничка 12\n",
      "Страничка 13\n",
      "Страничка 14\n",
      "Страничка 15\n",
      "Страничка 16\n",
      "Страничка 17\n",
      "Страничка 18\n",
      "Страничка 19\n",
      "Страничка 20\n",
      "Страничка 21\n",
      "Страничка 22\n",
      "Страничка 23\n",
      "Страничка 24\n",
      "Страничка 25\n",
      "Страничка 26\n",
      "Страничка 27\n",
      "Страничка 28\n",
      "Страничка 29\n",
      "Finished parsing district 4.\n"
     ]
    }
   ],
   "source": [
    "district4 = ParseDistrict(4, range(0, 30, 1))"
   ]
  },
  {
   "cell_type": "code",
   "execution_count": 85,
   "metadata": {
    "collapsed": true
   },
   "outputs": [],
   "source": [
    "district4.to_csv('/Users/Kamila/Desktop/district4.csv')"
   ]
  },
  {
   "cell_type": "code",
   "execution_count": 86,
   "metadata": {
    "collapsed": false,
    "scrolled": true
   },
   "outputs": [
    {
     "name": "stdout",
     "output_type": "stream",
     "text": [
      "Страничка 1\n",
      "Страничка 2\n",
      "Страничка 3\n",
      "Страничка 4\n",
      "Страничка 5\n",
      "Страничка 6\n",
      "Страничка 7\n",
      "Страничка 8\n",
      "Страничка 9\n",
      "Страничка 10\n",
      "Страничка 11\n",
      "Страничка 12\n",
      "Страничка 13\n",
      "Страничка 14\n",
      "Страничка 15\n",
      "Страничка 16\n",
      "Страничка 17\n",
      "Страничка 18\n",
      "Страничка 19\n",
      "Страничка 20\n",
      "Страничка 21\n",
      "Страничка 22\n",
      "Страничка 23\n",
      "Страничка 24\n",
      "Страничка 25\n",
      "Страничка 26\n",
      "Страничка 27\n",
      "Страничка 28\n",
      "Страничка 29\n",
      "Finished parsing district 5.\n"
     ]
    }
   ],
   "source": [
    "district5 = ParseDistrict(5, range(0, 30, 1))"
   ]
  },
  {
   "cell_type": "code",
   "execution_count": 87,
   "metadata": {
    "collapsed": true
   },
   "outputs": [],
   "source": [
    "district5.to_csv('/Users/Kamila/Desktop/district5.csv')"
   ]
  },
  {
   "cell_type": "code",
   "execution_count": 88,
   "metadata": {
    "collapsed": false,
    "scrolled": true
   },
   "outputs": [
    {
     "name": "stdout",
     "output_type": "stream",
     "text": [
      "Страничка 1\n",
      "Страничка 2\n",
      "Страничка 3\n",
      "Страничка 4\n",
      "Страничка 5\n",
      "Страничка 6\n",
      "Страничка 7\n",
      "Страничка 8\n",
      "Страничка 9\n",
      "Страничка 10\n",
      "Страничка 11\n",
      "Страничка 12\n",
      "Страничка 13\n",
      "Страничка 14\n",
      "Страничка 15\n",
      "Страничка 16\n",
      "Страничка 17\n",
      "Страничка 18\n",
      "Страничка 19\n",
      "Страничка 20\n",
      "Страничка 21\n",
      "Страничка 22\n",
      "Страничка 23\n",
      "Страничка 24\n",
      "Страничка 25\n",
      "Страничка 26\n",
      "Страничка 27\n",
      "Страничка 28\n",
      "Страничка 29\n",
      "Finished parsing district 6.\n"
     ]
    }
   ],
   "source": [
    "district6 = ParseDistrict(6, range(0, 30, 1))"
   ]
  },
  {
   "cell_type": "code",
   "execution_count": 89,
   "metadata": {
    "collapsed": true
   },
   "outputs": [],
   "source": [
    "district6.to_csv('/Users/Kamila/Desktop/district6.csv')"
   ]
  },
  {
   "cell_type": "code",
   "execution_count": 93,
   "metadata": {
    "collapsed": false,
    "scrolled": true
   },
   "outputs": [
    {
     "name": "stdout",
     "output_type": "stream",
     "text": [
      "Страничка 1\n",
      "Страничка 2\n",
      "Страничка 3\n",
      "Страничка 4\n",
      "Страничка 5\n",
      "Страничка 6\n",
      "Страничка 7\n",
      "Страничка 8\n",
      "Страничка 9\n",
      "Страничка 10\n",
      "Страничка 11\n",
      "Страничка 12\n",
      "Страничка 13\n",
      "Страничка 14\n",
      "Страничка 15\n",
      "Страничка 16\n",
      "Страничка 17\n",
      "Страничка 18\n",
      "Страничка 19\n",
      "Страничка 20\n",
      "Страничка 21\n",
      "Страничка 22\n",
      "Страничка 23\n",
      "Страничка 24\n",
      "Страничка 25\n",
      "Страничка 26\n",
      "Страничка 27\n",
      "Страничка 28\n",
      "Страничка 29\n",
      "Finished parsing district 7.\n"
     ]
    }
   ],
   "source": [
    "district7 = ParseDistrict(7, range(0, 30, 1))"
   ]
  },
  {
   "cell_type": "code",
   "execution_count": 95,
   "metadata": {
    "collapsed": true
   },
   "outputs": [],
   "source": [
    "district7.to_csv('/Users/Kamila/Desktop/district7.csv')"
   ]
  },
  {
   "cell_type": "code",
   "execution_count": 96,
   "metadata": {
    "collapsed": false
   },
   "outputs": [
    {
     "name": "stdout",
     "output_type": "stream",
     "text": [
      "Страничка 1\n",
      "Страничка 2\n",
      "Страничка 3\n",
      "Страничка 4\n",
      "Страничка 5\n",
      "Страничка 6\n",
      "Страничка 7\n",
      "Страничка 8\n",
      "Страничка 9\n",
      "Страничка 10\n",
      "Страничка 11\n",
      "Страничка 12\n",
      "Страничка 13\n",
      "Страничка 14\n",
      "Страничка 15\n",
      "Страничка 16\n",
      "Страничка 17\n",
      "Страничка 18\n",
      "Страничка 19\n",
      "Страничка 20\n",
      "Страничка 21\n",
      "Страничка 22\n",
      "Страничка 23\n",
      "Страничка 24\n",
      "Страничка 25\n",
      "Страничка 26\n",
      "Страничка 27\n",
      "Страничка 28\n",
      "Страничка 29\n",
      "Finished parsing district 8.\n"
     ]
    }
   ],
   "source": [
    "district8 = ParseDistrict(8, range(0, 30, 1))"
   ]
  },
  {
   "cell_type": "code",
   "execution_count": 99,
   "metadata": {
    "collapsed": true
   },
   "outputs": [],
   "source": [
    "district8.to_csv('/Users/Kamila/Desktop/district8.csv')"
   ]
  },
  {
   "cell_type": "code",
   "execution_count": 101,
   "metadata": {
    "collapsed": false,
    "scrolled": true
   },
   "outputs": [
    {
     "name": "stdout",
     "output_type": "stream",
     "text": [
      "Страничка 1\n",
      "Finished parsing district 9.\n"
     ]
    }
   ],
   "source": [
    "district9 = ParseDistrict(9, range(0, 30, 1))"
   ]
  },
  {
   "cell_type": "code",
   "execution_count": 102,
   "metadata": {
    "collapsed": true
   },
   "outputs": [],
   "source": [
    "district9.to_csv('/Users/Kamila/Desktop/district9.csv')"
   ]
  },
  {
   "cell_type": "code",
   "execution_count": 103,
   "metadata": {
    "collapsed": false,
    "scrolled": true
   },
   "outputs": [
    {
     "name": "stdout",
     "output_type": "stream",
     "text": [
      "Страничка 1\n",
      "Страничка 2\n",
      "Страничка 3\n",
      "Страничка 4\n",
      "Страничка 5\n",
      "Страничка 6\n",
      "Страничка 7\n",
      "Страничка 8\n",
      "Страничка 9\n",
      "Страничка 10\n",
      "Страничка 11\n",
      "Страничка 12\n",
      "Страничка 13\n",
      "Страничка 14\n",
      "Страничка 15\n",
      "Страничка 16\n",
      "Страничка 17\n",
      "Страничка 18\n",
      "Страничка 19\n",
      "Страничка 20\n",
      "Страничка 21\n",
      "Страничка 22\n",
      "Страничка 23\n",
      "Страничка 24\n",
      "Страничка 25\n",
      "Страничка 26\n",
      "Страничка 27\n",
      "Страничка 28\n",
      "Страничка 29\n",
      "Finished parsing district 10.\n"
     ]
    }
   ],
   "source": [
    "district10 = ParseDistrict(10, range(0, 30, 1))"
   ]
  },
  {
   "cell_type": "code",
   "execution_count": 105,
   "metadata": {
    "collapsed": true
   },
   "outputs": [],
   "source": [
    "district10.to_csv('/Users/Kamila/Desktop/district10.csv')"
   ]
  },
  {
   "cell_type": "code",
   "execution_count": 106,
   "metadata": {
    "collapsed": false
   },
   "outputs": [
    {
     "name": "stdout",
     "output_type": "stream",
     "text": [
      "Страничка 1\n",
      "Страничка 2\n",
      "Страничка 3\n",
      "Страничка 4\n",
      "Страничка 5\n",
      "Страничка 6\n",
      "Страничка 7\n",
      "Страничка 8\n",
      "Страничка 9\n",
      "Страничка 10\n",
      "Страничка 11\n",
      "Страничка 12\n",
      "Страничка 13\n",
      "Страничка 14\n",
      "Страничка 15\n",
      "Страничка 16\n",
      "Страничка 17\n",
      "Страничка 18\n",
      "Страничка 19\n",
      "Страничка 20\n",
      "Страничка 21\n",
      "Страничка 22\n",
      "Страничка 23\n",
      "Страничка 24\n",
      "Страничка 25\n",
      "Страничка 26\n",
      "Страничка 27\n",
      "Finished parsing district 11.\n"
     ]
    }
   ],
   "source": [
    "district11 = ParseDistrict(11, range(0, 30, 1))"
   ]
  },
  {
   "cell_type": "code",
   "execution_count": 107,
   "metadata": {
    "collapsed": true
   },
   "outputs": [],
   "source": [
    "district11.to_csv('/Users/Kamila/Desktop/district11.csv')"
   ]
  },
  {
   "cell_type": "markdown",
   "metadata": {},
   "source": [
    "Теперь из всех данных сделаем одну единую таблицу:"
   ]
  },
  {
   "cell_type": "code",
   "execution_count": 108,
   "metadata": {
    "collapsed": false
   },
   "outputs": [],
   "source": [
    "TotalDistricts = pd.concat([district0, district1, district2, district3, district4, district5, district6, district7, district8, district9, district10, district11], axis = 0)"
   ]
  },
  {
   "cell_type": "code",
   "execution_count": 109,
   "metadata": {
    "collapsed": false
   },
   "outputs": [],
   "source": [
    "TotalDistricts = TotalDistricts.reset_index(drop=True)"
   ]
  },
  {
   "cell_type": "code",
   "execution_count": 110,
   "metadata": {
    "collapsed": false
   },
   "outputs": [
    {
     "data": {
      "text/plain": [
       "(8699, 18)"
      ]
     },
     "execution_count": 110,
     "metadata": {},
     "output_type": "execute_result"
    }
   ],
   "source": [
    "TotalDistricts.shape"
   ]
  },
  {
   "cell_type": "markdown",
   "metadata": {},
   "source": [
    "Всего есть данных по 8699 квартирам."
   ]
  },
  {
   "cell_type": "code",
   "execution_count": 111,
   "metadata": {
    "collapsed": false
   },
   "outputs": [
    {
     "data": {
      "text/html": [
       "<div>\n",
       "<table border=\"1\" class=\"dataframe\">\n",
       "  <thead>\n",
       "    <tr style=\"text-align: right;\">\n",
       "      <th></th>\n",
       "      <th>District</th>\n",
       "      <th>N</th>\n",
       "      <th>Price</th>\n",
       "      <th>Lat</th>\n",
       "      <th>Lon</th>\n",
       "      <th>Dist</th>\n",
       "      <th>Brick</th>\n",
       "      <th>Tel</th>\n",
       "      <th>Bal</th>\n",
       "      <th>New</th>\n",
       "    </tr>\n",
       "  </thead>\n",
       "  <tbody>\n",
       "    <tr>\n",
       "      <th>count</th>\n",
       "      <td>8699.000000</td>\n",
       "      <td>8699.000000</td>\n",
       "      <td>8.699000e+03</td>\n",
       "      <td>8699.000000</td>\n",
       "      <td>8699.000000</td>\n",
       "      <td>8699.000000</td>\n",
       "      <td>8699.000000</td>\n",
       "      <td>8699.000000</td>\n",
       "      <td>8699.000000</td>\n",
       "      <td>8699.000000</td>\n",
       "    </tr>\n",
       "    <tr>\n",
       "      <th>mean</th>\n",
       "      <td>5.135073</td>\n",
       "      <td>395.771353</td>\n",
       "      <td>9.070940e+06</td>\n",
       "      <td>55.702575</td>\n",
       "      <td>37.555622</td>\n",
       "      <td>16.226701</td>\n",
       "      <td>0.432808</td>\n",
       "      <td>0.324980</td>\n",
       "      <td>0.697207</td>\n",
       "      <td>0.314059</td>\n",
       "    </tr>\n",
       "    <tr>\n",
       "      <th>std</th>\n",
       "      <td>3.412344</td>\n",
       "      <td>228.677457</td>\n",
       "      <td>1.460167e+07</td>\n",
       "      <td>0.127048</td>\n",
       "      <td>0.178042</td>\n",
       "      <td>10.455224</td>\n",
       "      <td>0.495493</td>\n",
       "      <td>0.468394</td>\n",
       "      <td>0.459493</td>\n",
       "      <td>0.464167</td>\n",
       "    </tr>\n",
       "    <tr>\n",
       "      <th>min</th>\n",
       "      <td>0.000000</td>\n",
       "      <td>1.000000</td>\n",
       "      <td>1.030000e+04</td>\n",
       "      <td>55.211897</td>\n",
       "      <td>36.857813</td>\n",
       "      <td>0.862656</td>\n",
       "      <td>0.000000</td>\n",
       "      <td>0.000000</td>\n",
       "      <td>0.000000</td>\n",
       "      <td>0.000000</td>\n",
       "    </tr>\n",
       "    <tr>\n",
       "      <th>25%</th>\n",
       "      <td>2.000000</td>\n",
       "      <td>198.000000</td>\n",
       "      <td>5.400280e+06</td>\n",
       "      <td>55.616427</td>\n",
       "      <td>37.459576</td>\n",
       "      <td>9.749450</td>\n",
       "      <td>0.000000</td>\n",
       "      <td>0.000000</td>\n",
       "      <td>0.000000</td>\n",
       "      <td>0.000000</td>\n",
       "    </tr>\n",
       "    <tr>\n",
       "      <th>50%</th>\n",
       "      <td>5.000000</td>\n",
       "      <td>396.000000</td>\n",
       "      <td>6.796350e+06</td>\n",
       "      <td>55.718248</td>\n",
       "      <td>37.557807</td>\n",
       "      <td>13.902649</td>\n",
       "      <td>0.000000</td>\n",
       "      <td>0.000000</td>\n",
       "      <td>1.000000</td>\n",
       "      <td>0.000000</td>\n",
       "    </tr>\n",
       "    <tr>\n",
       "      <th>75%</th>\n",
       "      <td>8.000000</td>\n",
       "      <td>593.000000</td>\n",
       "      <td>9.200000e+06</td>\n",
       "      <td>55.802211</td>\n",
       "      <td>37.671938</td>\n",
       "      <td>19.987989</td>\n",
       "      <td>1.000000</td>\n",
       "      <td>1.000000</td>\n",
       "      <td>1.000000</td>\n",
       "      <td>1.000000</td>\n",
       "    </tr>\n",
       "    <tr>\n",
       "      <th>max</th>\n",
       "      <td>11.000000</td>\n",
       "      <td>809.000000</td>\n",
       "      <td>4.239086e+08</td>\n",
       "      <td>56.002813</td>\n",
       "      <td>37.940921</td>\n",
       "      <td>69.436318</td>\n",
       "      <td>1.000000</td>\n",
       "      <td>1.000000</td>\n",
       "      <td>1.000000</td>\n",
       "      <td>1.000000</td>\n",
       "    </tr>\n",
       "  </tbody>\n",
       "</table>\n",
       "</div>"
      ],
      "text/plain": [
       "          District            N         Price          Lat          Lon  \\\n",
       "count  8699.000000  8699.000000  8.699000e+03  8699.000000  8699.000000   \n",
       "mean      5.135073   395.771353  9.070940e+06    55.702575    37.555622   \n",
       "std       3.412344   228.677457  1.460167e+07     0.127048     0.178042   \n",
       "min       0.000000     1.000000  1.030000e+04    55.211897    36.857813   \n",
       "25%       2.000000   198.000000  5.400280e+06    55.616427    37.459576   \n",
       "50%       5.000000   396.000000  6.796350e+06    55.718248    37.557807   \n",
       "75%       8.000000   593.000000  9.200000e+06    55.802211    37.671938   \n",
       "max      11.000000   809.000000  4.239086e+08    56.002813    37.940921   \n",
       "\n",
       "              Dist        Brick          Tel          Bal          New  \n",
       "count  8699.000000  8699.000000  8699.000000  8699.000000  8699.000000  \n",
       "mean     16.226701     0.432808     0.324980     0.697207     0.314059  \n",
       "std      10.455224     0.495493     0.468394     0.459493     0.464167  \n",
       "min       0.862656     0.000000     0.000000     0.000000     0.000000  \n",
       "25%       9.749450     0.000000     0.000000     0.000000     0.000000  \n",
       "50%      13.902649     0.000000     0.000000     1.000000     0.000000  \n",
       "75%      19.987989     1.000000     1.000000     1.000000     1.000000  \n",
       "max      69.436318     1.000000     1.000000     1.000000     1.000000  "
      ]
     },
     "execution_count": 111,
     "metadata": {},
     "output_type": "execute_result"
    }
   ],
   "source": [
    "TotalDistricts.describe()"
   ]
  },
  {
   "cell_type": "code",
   "execution_count": 112,
   "metadata": {
    "collapsed": true
   },
   "outputs": [],
   "source": [
    "TotalDistricts.to_csv('/Users/Kamila/Desktop/ciandata.csv')"
   ]
  }
 ],
 "metadata": {
  "anaconda-cloud": {},
  "kernelspec": {
   "display_name": "Python [conda root]",
   "language": "python",
   "name": "conda-root-py"
  },
  "language_info": {
   "codemirror_mode": {
    "name": "ipython",
    "version": 3
   },
   "file_extension": ".py",
   "mimetype": "text/x-python",
   "name": "python",
   "nbconvert_exporter": "python",
   "pygments_lexer": "ipython3",
   "version": "3.5.2"
  }
 },
 "nbformat": 4,
 "nbformat_minor": 1
}
